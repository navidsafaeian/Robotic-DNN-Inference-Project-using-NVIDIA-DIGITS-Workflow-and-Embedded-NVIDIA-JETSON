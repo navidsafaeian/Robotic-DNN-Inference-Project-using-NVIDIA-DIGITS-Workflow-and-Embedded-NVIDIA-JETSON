{
 "cells": [
  {
   "cell_type": "markdown",
   "metadata": {},
   "source": [
    "### Data Collecection (Image Classification) for deep learning solution including preprocessing and extracting images from the videos captured by a cell phone (S7) camera.\n",
    "#### Filming each object (class) and converting to images following by removing very similar frames, chosing the image format, resizing images to be suited for deep learning model, and so on ...."
   ]
  },
  {
   "cell_type": "code",
   "execution_count": null,
   "metadata": {},
   "outputs": [],
   "source": [
    "# video properties, number of total frame (count), frame width, frame height, fps\n",
    "import cv2\n",
    "pathin = 'Dataset/videoSample.mp4'\n",
    "cap = cv2.VideoCapture(pathin)\n",
    "length = int(cap.get(cv2.CAP_PROP_FRAME_COUNT))\n",
    "width  = int(cap.get(cv2.CAP_PROP_FRAME_WIDTH))\n",
    "height = int(cap.get(cv2.CAP_PROP_FRAME_HEIGHT))\n",
    "fps    = cap.get(cv2.CAP_PROP_FPS)\n",
    "print(\"length = {}\".format(length))\n",
    "print(\"width = {}\".format(width))\n",
    "print(\"height = {}\".format(height))\n",
    "print(\"fps = {}\".format(fps))"
   ]
  },
  {
   "cell_type": "code",
   "execution_count": null,
   "metadata": {},
   "outputs": [],
   "source": [
    "# to extract every frame but wants to extract frame every period of milisecond (MSEC). \n",
    "# So for instance with count*1000, 1 minute video will give 60 frames(images).\n",
    "# VideoCaputure command in cv2 capture a frame per milisecond (MSEC) of the video (1 second = 1000 frame)\n",
    "\n",
    "import cv2\n",
    "print(cv2.__version__)\n",
    "\n",
    "def extractImages(pathIn, pathOut):\n",
    "    count = 0\n",
    "    vidcap = cv2.VideoCapture(pathIn)\n",
    "    success, image = vidcap.read()\n",
    "    success = True\n",
    "    while success:  \n",
    "      # added this line to extract from video each 500 milisecond \n",
    "        vidcap.set(cv2.CAP_PROP_POS_MSEC,(count*300)) \n",
    "        #vidcap.set(cv2.CAP_PROP_FRAME_WIDTH, 256)\n",
    "        #vidcap.set(cv2.CAP_PROP_FRAME_HEIGHT, 256)  \n",
    "        success, image = vidcap.read()\n",
    "        if image is not None:\n",
    "            res = cv2.resize(image,(256, 256), interpolation = cv2.INTER_NEAREST)\n",
    "        else:\n",
    "            print(\"image not loaded\") \n",
    "        print ('Read a new frame: ', success)\n",
    "        # we can imwrite in many format e.g. png, jpg, jpeg, ....\n",
    "        num = count + 1\n",
    "        cv2.imwrite( pathOut + \"/Nothing_%d.png\" % num, res)     # save frame as JPEG file     \n",
    "        count = count + 1"
   ]
  },
  {
   "cell_type": "code",
   "execution_count": null,
   "metadata": {},
   "outputs": [],
   "source": [
    "pathIn = 'Dataset/videoSample.mp4'\n",
    "pathOut = 'Dataset/pathOut-dir'\n",
    "extractImages(pathIn, pathOut)"
   ]
  },
  {
   "cell_type": "code",
   "execution_count": null,
   "metadata": {},
   "outputs": [],
   "source": [
    "# change format from .jpg to .png for images in the target directory; \n",
    "from PIL import Image\n",
    "from os import listdir\n",
    "from os.path import splitext\n",
    "\n",
    "target_dir = 'targetDir/'\n",
    "\n",
    "for file in listdir(target_dir):\n",
    "    filename, extension = splitext(file)\n",
    "    \n",
    "    try:\n",
    "        if (extension in ['.jpg'] and file not in [filename + '.png']):\n",
    "            im = Image.open(target_dir + filename + extension)\n",
    "            im.save(target_dir + filename + '.png')\n",
    "    except OSError:\n",
    "        print('Cannot convert %s' % file)"
   ]
  },
  {
   "cell_type": "markdown",
   "metadata": {},
   "source": [
    "### Note:\n",
    "#### Bash Script to rename with variable for all files in a directory:\n",
    "\n",
    "##### The following bash script rename all image file (.png) of a dir to Gum_1.png, Gum_2.png , ....\n",
    "```bash\n",
    "#!/bin/bash \n",
    "idx=1\n",
    "for file in *.png\n",
    "do\n",
    "   echo \"Rename $file to Gum_$((idx++)).png\"   \n",
    "done\n",
    "\n",
    "read -p \"Are you sure you wish to continue?\"\n",
    "\n",
    "if [ \"$REPLY\" != \"y\" ]; then\n",
    "   trap INT\n",
    "else\n",
    "   idx=1\n",
    "   for file in *.png\n",
    "   do\n",
    "      mv \"$file\" \"Gum_$((idx++)).png\"   \n",
    "   done    \n",
    "fi\n",
    "\n",
    "```\n"
   ]
  }
 ],
 "metadata": {
  "kernelspec": {
   "display_name": "Python 3",
   "language": "python",
   "name": "python3"
  },
  "language_info": {
   "codemirror_mode": {
    "name": "ipython",
    "version": 3
   },
   "file_extension": ".py",
   "mimetype": "text/x-python",
   "name": "python",
   "nbconvert_exporter": "python",
   "pygments_lexer": "ipython3",
   "version": "3.6.6"
  }
 },
 "nbformat": 4,
 "nbformat_minor": 2
}
